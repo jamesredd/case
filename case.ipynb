{
 "cells": [
  {
   "cell_type": "code",
   "execution_count": 16,
   "metadata": {},
   "outputs": [],
   "source": [
    "import xarray as xr\n",
    "import fsspec\n",
    "import s3fs\n",
    "import os\n",
    "import matplotlib.pyplot as plt\n",
    "import dask\n",
    "from dask.distributed import Client, LocalCluster, progress\n",
    "import datetime"
   ]
  },
  {
   "cell_type": "code",
   "execution_count": 23,
   "metadata": {},
   "outputs": [],
   "source": [
    "def convert_full_date_to_continous_day(year, month, day):\n",
    "    return datetime.datetime(year, month, day).timetuple().tm_yday\n",
    "\n",
    "def get_geo_uri(year, month, day):\n",
    "    fs = s3fs.S3FileSystem(anon=True)\n",
    "    continous_day = convert_full_date_to_continous_day(year, month, day)\n",
    "    filepath = \"s3://noaa-goes17/ABI-L2-SSTF/%s/%s/*/*.nc\" % (str(year).zfill(4), str(day).zfill(3)) \n",
    "    objects, var = fs.glob(filepath), 'SST'\n",
    "    \n",
    "    if len(objects) < 1:\n",
    "        raise Exception(\"No files found\")\n",
    "\n",
    "    images = ['s3://' + obj for obj in objects]\n",
    "\n",
    "    return images"
   ]
  },
  {
   "cell_type": "code",
   "execution_count": 24,
   "metadata": {},
   "outputs": [
    {
     "data": {
      "text/plain": [
       "['s3://noaa-goes17/ABI-L2-SSTF/2020/011/00/OR_ABI-L2-SSTF-M6_G17_s20200110000320_e20200110059386_c20200110104137.nc',\n",
       " 's3://noaa-goes17/ABI-L2-SSTF/2020/011/01/OR_ABI-L2-SSTF-M6_G17_s20200110100320_e20200110159387_c20200110204118.nc',\n",
       " 's3://noaa-goes17/ABI-L2-SSTF/2020/011/02/OR_ABI-L2-SSTF-M6_G17_s20200110200320_e20200110259387_c20200110304142.nc',\n",
       " 's3://noaa-goes17/ABI-L2-SSTF/2020/011/03/OR_ABI-L2-SSTF-M6_G17_s20200110300320_e20200110359387_c20200110404161.nc',\n",
       " 's3://noaa-goes17/ABI-L2-SSTF/2020/011/04/OR_ABI-L2-SSTF-M6_G17_s20200110400320_e20200110459387_c20200110504182.nc',\n",
       " 's3://noaa-goes17/ABI-L2-SSTF/2020/011/05/OR_ABI-L2-SSTF-M6_G17_s20200110500320_e20200110559387_c20200110604112.nc',\n",
       " 's3://noaa-goes17/ABI-L2-SSTF/2020/011/06/OR_ABI-L2-SSTF-M6_G17_s20200110600320_e20200110659387_c20200110704124.nc',\n",
       " 's3://noaa-goes17/ABI-L2-SSTF/2020/011/07/OR_ABI-L2-SSTF-M6_G17_s20200110700320_e20200110759387_c20200110804105.nc',\n",
       " 's3://noaa-goes17/ABI-L2-SSTF/2020/011/08/OR_ABI-L2-SSTF-M6_G17_s20200110800318_e20200110859385_c20200110904081.nc',\n",
       " 's3://noaa-goes17/ABI-L2-SSTF/2020/011/09/OR_ABI-L2-SSTF-M6_G17_s20200110900319_e20200110959388_c20200111004095.nc',\n",
       " 's3://noaa-goes17/ABI-L2-SSTF/2020/011/10/OR_ABI-L2-SSTF-M6_G17_s20200111000321_e20200111059388_c20200111104090.nc',\n",
       " 's3://noaa-goes17/ABI-L2-SSTF/2020/011/11/OR_ABI-L2-SSTF-M6_G17_s20200111100321_e20200111159388_c20200111204113.nc',\n",
       " 's3://noaa-goes17/ABI-L2-SSTF/2020/011/12/OR_ABI-L2-SSTF-M6_G17_s20200111200321_e20200111259388_c20200111304108.nc',\n",
       " 's3://noaa-goes17/ABI-L2-SSTF/2020/011/13/OR_ABI-L2-SSTF-M6_G17_s20200111300321_e20200111359388_c20200111404122.nc',\n",
       " 's3://noaa-goes17/ABI-L2-SSTF/2020/011/14/OR_ABI-L2-SSTF-M6_G17_s20200111400321_e20200111459388_c20200111504157.nc',\n",
       " 's3://noaa-goes17/ABI-L2-SSTF/2020/011/15/OR_ABI-L2-SSTF-M6_G17_s20200111500321_e20200111559388_c20200111604115.nc',\n",
       " 's3://noaa-goes17/ABI-L2-SSTF/2020/011/16/OR_ABI-L2-SSTF-M6_G17_s20200111600321_e20200111659388_c20200111704117.nc',\n",
       " 's3://noaa-goes17/ABI-L2-SSTF/2020/011/17/OR_ABI-L2-SSTF-M6_G17_s20200111700321_e20200111759388_c20200111804118.nc',\n",
       " 's3://noaa-goes17/ABI-L2-SSTF/2020/011/18/OR_ABI-L2-SSTF-M6_G17_s20200111800321_e20200111859388_c20200111904174.nc',\n",
       " 's3://noaa-goes17/ABI-L2-SSTF/2020/011/19/OR_ABI-L2-SSTF-M6_G17_s20200111900322_e20200111959388_c20200112004159.nc',\n",
       " 's3://noaa-goes17/ABI-L2-SSTF/2020/011/20/OR_ABI-L2-SSTF-M6_G17_s20200112000322_e20200112059389_c20200112104131.nc',\n",
       " 's3://noaa-goes17/ABI-L2-SSTF/2020/011/21/OR_ABI-L2-SSTF-M6_G17_s20200112100322_e20200112159386_c20200112204089.nc',\n",
       " 's3://noaa-goes17/ABI-L2-SSTF/2020/011/22/OR_ABI-L2-SSTF-M6_G17_s20200112200320_e20200112259386_c20200112304110.nc',\n",
       " 's3://noaa-goes17/ABI-L2-SSTF/2020/011/23/OR_ABI-L2-SSTF-M6_G17_s20200112300320_e20200112359387_c20200120004140.nc']"
      ]
     },
     "execution_count": 24,
     "metadata": {},
     "output_type": "execute_result"
    }
   ],
   "source": [
    "get_geo_uri(2020, 8, 11)"
   ]
  },
  {
   "cell_type": "code",
   "execution_count": null,
   "metadata": {},
   "outputs": [],
   "source": []
  }
 ],
 "metadata": {
  "kernelspec": {
   "display_name": "Python 3",
   "language": "python",
   "name": "python3"
  },
  "language_info": {
   "codemirror_mode": {
    "name": "ipython",
    "version": 3
   },
   "file_extension": ".py",
   "mimetype": "text/x-python",
   "name": "python",
   "nbconvert_exporter": "python",
   "pygments_lexer": "ipython3",
   "version": "3.7.8"
  }
 },
 "nbformat": 4,
 "nbformat_minor": 4
}
