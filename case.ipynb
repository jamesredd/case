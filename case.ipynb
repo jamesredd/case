{
 "cells": [
  {
   "cell_type": "code",
   "execution_count": 4,
   "metadata": {},
   "outputs": [],
   "source": [
    "import xarray as xr\n",
    "import fsspec\n",
    "import s3fs\n",
    "import os\n",
    "import matplotlib.pyplot as plt\n",
    "import dask\n",
    "import rasterio\n",
    "from dask.distributed import Client, LocalCluster, progress\n",
    "import datetime\n",
    "import tempfile\n",
    "import boto3"
   ]
  },
  {
   "cell_type": "code",
   "execution_count": 5,
   "metadata": {},
   "outputs": [],
   "source": [
    "env = dict(GDAL_DISABLE_READDIR_ON_OPEN='EMPTY_DIR', \n",
    "           AWS_NO_SIGN_REQUEST='YES',\n",
    "           GDAL_MAX_RAW_BLOCK_CACHE_SIZE='200000000',\n",
    "           GDAL_SWATH_SIZE='200000000',\n",
    "           VSI_CURL_CACHE_SIZE='200000000')\n",
    "os.environ.update(env)"
   ]
  },
  {
   "cell_type": "code",
   "execution_count": 52,
   "metadata": {},
   "outputs": [],
   "source": [
    "def convert_full_date_to_continous_day(year, month, day):\n",
    "    \"\"\"\n",
    "    Helper function if you wish to use month, day vs julian day\n",
    "    \"\"\"\n",
    "    return datetime.datetime(year, month, day).timetuple().tm_yday\n",
    "\n",
    "def get_geo_uri(year, day):\n",
    "    \"\"\"\n",
    "    returns list of geo uris\n",
    "    \"\"\"\n",
    "    fs = s3fs.S3FileSystem(anon=True)\n",
    "    files = []\n",
    "    \n",
    "    filepath = \"s3://noaa-goes17/ABI-L1b-RadC/%s/%s/*/*.nc\" % (str(year).zfill(4), str(day).zfill(3)) \n",
    "    files = fs.glob(filepath)\n",
    "    \n",
    "    if len(files) < 1:\n",
    "        raise Exception(\"No files found\")\n",
    "    \n",
    "    return files\n",
    "\n",
    "def download_to_xarray(uri):\n",
    "    \"\"\"\n",
    "    Downloads file and directly loads it into xarray in memory\n",
    "    \"\"\"\n",
    "    s3 = boto3.client(\"s3\")\n",
    "    \n",
    "    with tempfile.NamedTemporaryFile() as temp_file:\n",
    "        s3.download_file(Bucket=uri[:11], Key=uri[12:], Filename=temp_file.name)\n",
    "        datastore = xr.open_dataset(temp_file.name)\n",
    "        \n",
    "    return datastore\n",
    "\n",
    "def download_to_disk(uri):\n",
    "    s3 = boto3.client(\"s3\")\n",
    "    filename = uri[12:].replace(\"/\", \"-\")\n",
    "    if not os.path.exists(filename):\n",
    "        s3.download_file(Bucket=uri[:11], Key=uri[12:], Filename=filename)\n",
    "        \n",
    "    return filename"
   ]
  },
  {
   "cell_type": "code",
   "execution_count": 44,
   "metadata": {},
   "outputs": [],
   "source": [
    "#TUBBS = {\"year\": 2017, \"day1\":220, \"day2\":243}\n",
    "#CAMP = {\"year\": 2018, \"day1\":312, \"day2\":329}\n",
    "#WOOLSEY = {\"year\": 2018, \"day1\":312, \"day2\":325}\n",
    "\n",
    "#below are incorrect to deal with data source\n",
    "CAMP = {\"year\": 2018, \"day1\":317, \"day2\":329}\n",
    "WOOLSEY = {\"year\": 2018, \"day1\":317, \"day2\":325}"
   ]
  },
  {
   "cell_type": "markdown",
   "metadata": {},
   "source": [
    "Downloading a single goes file from s3 takes 1.7s, and as the data we want to look at is larger than our memory, we first download to disk the portions of time we're interested in "
   ]
  },
  {
   "cell_type": "code",
   "execution_count": 34,
   "metadata": {},
   "outputs": [],
   "source": [
    "tubbs_uris = []\n",
    "camp_uris = []\n",
    "woolsey_uris = []"
   ]
  },
  {
   "cell_type": "code",
   "execution_count": 39,
   "metadata": {
    "collapsed": true,
    "jupyter": {
     "outputs_hidden": true
    }
   },
   "outputs": [
    {
     "ename": "Exception",
     "evalue": "No files found",
     "output_type": "error",
     "traceback": [
      "\u001b[0;31m---------------------------------------------------------------------------\u001b[0m",
      "\u001b[0;31mException\u001b[0m                                 Traceback (most recent call last)",
      "\u001b[0;32m<ipython-input-39-5d8e619e3ba8>\u001b[0m in \u001b[0;36m<module>\u001b[0;34m\u001b[0m\n\u001b[1;32m      1\u001b[0m \u001b[0;32mfor\u001b[0m \u001b[0mi\u001b[0m \u001b[0;32min\u001b[0m \u001b[0mrange\u001b[0m\u001b[0;34m(\u001b[0m\u001b[0mTUBBS\u001b[0m\u001b[0;34m[\u001b[0m\u001b[0;34m\"day2\"\u001b[0m\u001b[0;34m]\u001b[0m \u001b[0;34m-\u001b[0m \u001b[0mTUBBS\u001b[0m\u001b[0;34m[\u001b[0m\u001b[0;34m\"day1\"\u001b[0m\u001b[0;34m]\u001b[0m\u001b[0;34m)\u001b[0m\u001b[0;34m:\u001b[0m\u001b[0;34m\u001b[0m\u001b[0;34m\u001b[0m\u001b[0m\n\u001b[1;32m      2\u001b[0m     \u001b[0mday\u001b[0m \u001b[0;34m=\u001b[0m \u001b[0mi\u001b[0m \u001b[0;34m+\u001b[0m \u001b[0mTUBBS\u001b[0m\u001b[0;34m[\u001b[0m\u001b[0;34m\"day1\"\u001b[0m\u001b[0;34m]\u001b[0m\u001b[0;34m\u001b[0m\u001b[0;34m\u001b[0m\u001b[0m\n\u001b[0;32m----> 3\u001b[0;31m     \u001b[0mtubbs_uris\u001b[0m \u001b[0;34m+=\u001b[0m \u001b[0mget_geo_uri\u001b[0m\u001b[0;34m(\u001b[0m\u001b[0mTUBBS\u001b[0m\u001b[0;34m[\u001b[0m\u001b[0;34m\"year\"\u001b[0m\u001b[0;34m]\u001b[0m\u001b[0;34m,\u001b[0m \u001b[0mday\u001b[0m\u001b[0;34m)\u001b[0m\u001b[0;34m\u001b[0m\u001b[0;34m\u001b[0m\u001b[0m\n\u001b[0m",
      "\u001b[0;32m<ipython-input-32-8c3a066c8261>\u001b[0m in \u001b[0;36mget_geo_uri\u001b[0;34m(year, day)\u001b[0m\n\u001b[1;32m     16\u001b[0m \u001b[0;34m\u001b[0m\u001b[0m\n\u001b[1;32m     17\u001b[0m     \u001b[0;32mif\u001b[0m \u001b[0mlen\u001b[0m\u001b[0;34m(\u001b[0m\u001b[0mfiles\u001b[0m\u001b[0;34m)\u001b[0m \u001b[0;34m<\u001b[0m \u001b[0;36m1\u001b[0m\u001b[0;34m:\u001b[0m\u001b[0;34m\u001b[0m\u001b[0;34m\u001b[0m\u001b[0m\n\u001b[0;32m---> 18\u001b[0;31m         \u001b[0;32mraise\u001b[0m \u001b[0mException\u001b[0m\u001b[0;34m(\u001b[0m\u001b[0;34m\"No files found\"\u001b[0m\u001b[0;34m)\u001b[0m\u001b[0;34m\u001b[0m\u001b[0;34m\u001b[0m\u001b[0m\n\u001b[0m\u001b[1;32m     19\u001b[0m \u001b[0;34m\u001b[0m\u001b[0m\n\u001b[1;32m     20\u001b[0m     \u001b[0;32mreturn\u001b[0m \u001b[0mfiles\u001b[0m\u001b[0;34m\u001b[0m\u001b[0;34m\u001b[0m\u001b[0m\n",
      "\u001b[0;31mException\u001b[0m: No files found"
     ]
    }
   ],
   "source": [
    "for i in range(TUBBS[\"day2\"] - TUBBS[\"day1\"]):\n",
    "    day = i + TUBBS[\"day1\"]\n",
    "    tubbs_uris += get_geo_uri(TUBBS[\"year\"], day)"
   ]
  },
  {
   "cell_type": "code",
   "execution_count": 45,
   "metadata": {},
   "outputs": [
    {
     "name": "stdout",
     "output_type": "stream",
     "text": [
      "s3://noaa-goes17/ABI-L1b-RadC/2018/317/*/*.nc\n",
      "s3://noaa-goes17/ABI-L1b-RadC/2018/318/*/*.nc\n",
      "s3://noaa-goes17/ABI-L1b-RadC/2018/319/*/*.nc\n",
      "s3://noaa-goes17/ABI-L1b-RadC/2018/320/*/*.nc\n",
      "s3://noaa-goes17/ABI-L1b-RadC/2018/321/*/*.nc\n",
      "s3://noaa-goes17/ABI-L1b-RadC/2018/322/*/*.nc\n",
      "s3://noaa-goes17/ABI-L1b-RadC/2018/323/*/*.nc\n",
      "s3://noaa-goes17/ABI-L1b-RadC/2018/324/*/*.nc\n",
      "s3://noaa-goes17/ABI-L1b-RadC/2018/325/*/*.nc\n",
      "s3://noaa-goes17/ABI-L1b-RadC/2018/326/*/*.nc\n",
      "s3://noaa-goes17/ABI-L1b-RadC/2018/327/*/*.nc\n",
      "s3://noaa-goes17/ABI-L1b-RadC/2018/328/*/*.nc\n"
     ]
    }
   ],
   "source": [
    "for i in range(CAMP[\"day2\"] - CAMP[\"day1\"]):\n",
    "    day = i + CAMP[\"day1\"]\n",
    "    camp_uris += get_geo_uri(CAMP[\"year\"], day)"
   ]
  },
  {
   "cell_type": "code",
   "execution_count": 46,
   "metadata": {},
   "outputs": [
    {
     "name": "stdout",
     "output_type": "stream",
     "text": [
      "s3://noaa-goes17/ABI-L1b-RadC/2018/317/*/*.nc\n",
      "s3://noaa-goes17/ABI-L1b-RadC/2018/318/*/*.nc\n",
      "s3://noaa-goes17/ABI-L1b-RadC/2018/319/*/*.nc\n",
      "s3://noaa-goes17/ABI-L1b-RadC/2018/320/*/*.nc\n",
      "s3://noaa-goes17/ABI-L1b-RadC/2018/321/*/*.nc\n",
      "s3://noaa-goes17/ABI-L1b-RadC/2018/322/*/*.nc\n",
      "s3://noaa-goes17/ABI-L1b-RadC/2018/323/*/*.nc\n",
      "s3://noaa-goes17/ABI-L1b-RadC/2018/324/*/*.nc\n"
     ]
    }
   ],
   "source": [
    "for i in range(WOOLSEY[\"day2\"] - WOOLSEY[\"day1\"]):\n",
    "    day = i + WOOLSEY[\"day1\"]\n",
    "    woolsey_uris += get_geo_uri(WOOLSEY[\"year\"], day)"
   ]
  },
  {
   "cell_type": "code",
   "execution_count": 49,
   "metadata": {},
   "outputs": [],
   "source": [
    "camp_filepaths = []\n",
    "woolsey_filepaths = []"
   ]
  },
  {
   "cell_type": "code",
   "execution_count": null,
   "metadata": {},
   "outputs": [],
   "source": [
    "for key in camp_uris:\n",
    "    camp_filepaths += download_to_disk(key)\n",
    "for key in woolsey_uris:\n",
    "    woolsey_filepaths += download_to_disk(key)"
   ]
  },
  {
   "cell_type": "code",
   "execution_count": null,
   "metadata": {},
   "outputs": [],
   "source": []
  }
 ],
 "metadata": {
  "kernelspec": {
   "display_name": "Python 3",
   "language": "python",
   "name": "python3"
  },
  "language_info": {
   "codemirror_mode": {
    "name": "ipython",
    "version": 3
   },
   "file_extension": ".py",
   "mimetype": "text/x-python",
   "name": "python",
   "nbconvert_exporter": "python",
   "pygments_lexer": "ipython3",
   "version": "3.7.8"
  }
 },
 "nbformat": 4,
 "nbformat_minor": 4
}
