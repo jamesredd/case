{
 "cells": [
  {
   "cell_type": "code",
   "execution_count": 17,
   "metadata": {},
   "outputs": [],
   "source": [
    "import xarray as xr\n",
    "import fsspec\n",
    "import s3fs\n",
    "import os\n",
    "import matplotlib.pyplot as plt\n",
    "import dask\n",
    "import rasterio\n",
    "from dask.distributed import Client, LocalCluster, progress\n",
    "import datetime\n",
    "import tempfile\n",
    "import boto3"
   ]
  },
  {
   "cell_type": "code",
   "execution_count": 2,
   "metadata": {},
   "outputs": [],
   "source": [
    "env = dict(GDAL_DISABLE_READDIR_ON_OPEN='EMPTY_DIR', \n",
    "           AWS_NO_SIGN_REQUEST='YES',\n",
    "           GDAL_MAX_RAW_BLOCK_CACHE_SIZE='200000000',\n",
    "           GDAL_SWATH_SIZE='200000000',\n",
    "           VSI_CURL_CACHE_SIZE='200000000')\n",
    "os.environ.update(env)"
   ]
  },
  {
   "cell_type": "code",
   "execution_count": 26,
   "metadata": {},
   "outputs": [],
   "source": [
    "goes17_bucket = \"goes17\""
   ]
  },
  {
   "cell_type": "code",
   "execution_count": 3,
   "metadata": {},
   "outputs": [],
   "source": [
    "cluster = LocalCluster(processes=False, local_directory='/tmp') \n",
    "client = Client(cluster) "
   ]
  },
  {
   "cell_type": "code",
   "execution_count": 42,
   "metadata": {},
   "outputs": [],
   "source": [
    "def convert_full_date_to_continous_day(year, month, day):\n",
    "    return datetime.datetime(year, month, day).timetuple().tm_yday\n",
    "\n",
    "def get_geo_data(year, month, day):\n",
    "    fs = s3fs.S3FileSystem(anon=True)\n",
    "    continous_day = convert_full_date_to_continous_day(year, month, day)\n",
    "    filepath = \"s3://noaa-goes17/ABI-L2-SSTF/%s/%s/*/*.nc\" % (str(year).zfill(4), str(day).zfill(3)) \n",
    "    files, var = fs.glob(filepath), 'SST'\n",
    "    \n",
    "    if len(files) < 1:\n",
    "        raise Exception(\"No files found\")\n",
    "\n",
    "\n",
    "    file_ob = [fs.open(file) for file in files]\n",
    "    ds = xr.open_mfdataset(file_ob, combine='nested', concat_dim='time')\n",
    "    \n",
    "    return ds\n"
   ]
  },
  {
   "cell_type": "code",
   "execution_count": 43,
   "metadata": {},
   "outputs": [],
   "source": [
    "d = get_geo_data(2020, 11, 8)"
   ]
  },
  {
   "cell_type": "code",
   "execution_count": null,
   "metadata": {},
   "outputs": [],
   "source": []
  }
 ],
 "metadata": {
  "kernelspec": {
   "display_name": "Python 3",
   "language": "python",
   "name": "python3"
  },
  "language_info": {
   "codemirror_mode": {
    "name": "ipython",
    "version": 3
   },
   "file_extension": ".py",
   "mimetype": "text/x-python",
   "name": "python",
   "nbconvert_exporter": "python",
   "pygments_lexer": "ipython3",
   "version": "3.7.8"
  }
 },
 "nbformat": 4,
 "nbformat_minor": 4
}
