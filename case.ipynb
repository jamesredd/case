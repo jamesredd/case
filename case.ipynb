{
 "cells": [
  {
   "cell_type": "code",
   "execution_count": 6,
   "metadata": {},
   "outputs": [],
   "source": [
    "import xarray as xr\n",
    "import fsspec\n",
    "import s3fs\n",
    "import os\n",
    "import matplotlib.pyplot as plt\n",
    "import dask\n",
    "import datetime"
   ]
  },
  {
   "cell_type": "code",
   "execution_count": null,
   "metadata": {},
   "outputs": [],
   "source": [
    "def convert_full_date_to_continous_day(year, month, day):\n",
    "    return datetime.datetime(year, month, day).timetuple().tm_yday\n",
    "\n",
    "def get_geo_data(year, month, day):\n",
    "    fs = s3fs.S3FileSystem(anon=True)\n",
    "    continous_day = convert_full_date_to_continous_day(year, month, day)\n",
    "    file_location,var = fs.glob(f's3://noaa-goes17/ABI-L2-SSTF/'{str(year).zfill(4)}'/'{str(day).zfill(3)}'/*/*.nc'),'SST'\n",
    "    \n",
    "    #make a list of links to the file keys\n",
    "    if len(file_location) < 1:\n",
    "        raise Exception(\"No files found\")\n",
    "\n",
    "    file_ob = [fs.open(file) for file in file_location]        #open connection to files\n",
    "    \n",
    "    #open all the day's data\n",
    "    ds = xr.open_mfdataset(file_ob,combine='nested',concat_dim='time') #note file is super messed up formatting\n",
    "    \n",
    "    #clean up coordinates which are a MESS in GOES\n",
    "    #rename one of the coordinates that doesn't match a dim & should\n",
    "    ds = ds.rename({'t':'time'})\n",
    "    ds = ds.reset_coords()\n",
    "    \n",
    "    return ds"
   ]
  }
 ],
 "metadata": {
  "kernelspec": {
   "display_name": "Python 3",
   "language": "python",
   "name": "python3"
  },
  "language_info": {
   "codemirror_mode": {
    "name": "ipython",
    "version": 3
   },
   "file_extension": ".py",
   "mimetype": "text/x-python",
   "name": "python",
   "nbconvert_exporter": "python",
   "pygments_lexer": "ipython3",
   "version": "3.7.8"
  }
 },
 "nbformat": 4,
 "nbformat_minor": 4
}
